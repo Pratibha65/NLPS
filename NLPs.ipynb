{
  "nbformat": 4,
  "nbformat_minor": 0,
  "metadata": {
    "colab": {
      "provenance": [],
      "authorship_tag": "ABX9TyPLVT+0H62Yejdg3Vadvkez",
      "include_colab_link": true
    },
    "kernelspec": {
      "name": "python3",
      "display_name": "Python 3"
    },
    "language_info": {
      "name": "python"
    },
    "widgets": {
      "application/vnd.jupyter.widget-state+json": {
        "d7f3ac4efa9448d2849f8afe72cfee0e": {
          "model_module": "@jupyter-widgets/controls",
          "model_name": "HBoxModel",
          "model_module_version": "1.5.0",
          "state": {
            "_dom_classes": [],
            "_model_module": "@jupyter-widgets/controls",
            "_model_module_version": "1.5.0",
            "_model_name": "HBoxModel",
            "_view_count": null,
            "_view_module": "@jupyter-widgets/controls",
            "_view_module_version": "1.5.0",
            "_view_name": "HBoxView",
            "box_style": "",
            "children": [
              "IPY_MODEL_bbc76310ed6340e5bb7e21a55953c88c",
              "IPY_MODEL_97a95ed0033d4bbc934dea62b2c167d1",
              "IPY_MODEL_8e1463ff9a514500b6f021cf81f1e125"
            ],
            "layout": "IPY_MODEL_f48bcb72803241d98762f657104f9cc1"
          }
        },
        "bbc76310ed6340e5bb7e21a55953c88c": {
          "model_module": "@jupyter-widgets/controls",
          "model_name": "HTMLModel",
          "model_module_version": "1.5.0",
          "state": {
            "_dom_classes": [],
            "_model_module": "@jupyter-widgets/controls",
            "_model_module_version": "1.5.0",
            "_model_name": "HTMLModel",
            "_view_count": null,
            "_view_module": "@jupyter-widgets/controls",
            "_view_module_version": "1.5.0",
            "_view_name": "HTMLView",
            "description": "",
            "description_tooltip": null,
            "layout": "IPY_MODEL_31a3f0c2e00849f09239889b35cf8bd3",
            "placeholder": "​",
            "style": "IPY_MODEL_738732c056414cf0bc4e8ee499cbda39",
            "value": "100%"
          }
        },
        "97a95ed0033d4bbc934dea62b2c167d1": {
          "model_module": "@jupyter-widgets/controls",
          "model_name": "FloatProgressModel",
          "model_module_version": "1.5.0",
          "state": {
            "_dom_classes": [],
            "_model_module": "@jupyter-widgets/controls",
            "_model_module_version": "1.5.0",
            "_model_name": "FloatProgressModel",
            "_view_count": null,
            "_view_module": "@jupyter-widgets/controls",
            "_view_module_version": "1.5.0",
            "_view_name": "ProgressView",
            "bar_style": "success",
            "description": "",
            "description_tooltip": null,
            "layout": "IPY_MODEL_add3784c74ec427691fc7e0f1b9c473a",
            "max": 147,
            "min": 0,
            "orientation": "horizontal",
            "style": "IPY_MODEL_04219ffaf8534317a19b6d79eb642175",
            "value": 147
          }
        },
        "8e1463ff9a514500b6f021cf81f1e125": {
          "model_module": "@jupyter-widgets/controls",
          "model_name": "HTMLModel",
          "model_module_version": "1.5.0",
          "state": {
            "_dom_classes": [],
            "_model_module": "@jupyter-widgets/controls",
            "_model_module_version": "1.5.0",
            "_model_name": "HTMLModel",
            "_view_count": null,
            "_view_module": "@jupyter-widgets/controls",
            "_view_module_version": "1.5.0",
            "_view_name": "HTMLView",
            "description": "",
            "description_tooltip": null,
            "layout": "IPY_MODEL_81920249769d425bbbbed99764eafadb",
            "placeholder": "​",
            "style": "IPY_MODEL_15894e678ed34defb8c81a74d0559d3b",
            "value": " 147/147 [00:02&lt;00:00, 79.64it/s]"
          }
        },
        "f48bcb72803241d98762f657104f9cc1": {
          "model_module": "@jupyter-widgets/base",
          "model_name": "LayoutModel",
          "model_module_version": "1.2.0",
          "state": {
            "_model_module": "@jupyter-widgets/base",
            "_model_module_version": "1.2.0",
            "_model_name": "LayoutModel",
            "_view_count": null,
            "_view_module": "@jupyter-widgets/base",
            "_view_module_version": "1.2.0",
            "_view_name": "LayoutView",
            "align_content": null,
            "align_items": null,
            "align_self": null,
            "border": null,
            "bottom": null,
            "display": null,
            "flex": null,
            "flex_flow": null,
            "grid_area": null,
            "grid_auto_columns": null,
            "grid_auto_flow": null,
            "grid_auto_rows": null,
            "grid_column": null,
            "grid_gap": null,
            "grid_row": null,
            "grid_template_areas": null,
            "grid_template_columns": null,
            "grid_template_rows": null,
            "height": null,
            "justify_content": null,
            "justify_items": null,
            "left": null,
            "margin": null,
            "max_height": null,
            "max_width": null,
            "min_height": null,
            "min_width": null,
            "object_fit": null,
            "object_position": null,
            "order": null,
            "overflow": null,
            "overflow_x": null,
            "overflow_y": null,
            "padding": null,
            "right": null,
            "top": null,
            "visibility": null,
            "width": null
          }
        },
        "31a3f0c2e00849f09239889b35cf8bd3": {
          "model_module": "@jupyter-widgets/base",
          "model_name": "LayoutModel",
          "model_module_version": "1.2.0",
          "state": {
            "_model_module": "@jupyter-widgets/base",
            "_model_module_version": "1.2.0",
            "_model_name": "LayoutModel",
            "_view_count": null,
            "_view_module": "@jupyter-widgets/base",
            "_view_module_version": "1.2.0",
            "_view_name": "LayoutView",
            "align_content": null,
            "align_items": null,
            "align_self": null,
            "border": null,
            "bottom": null,
            "display": null,
            "flex": null,
            "flex_flow": null,
            "grid_area": null,
            "grid_auto_columns": null,
            "grid_auto_flow": null,
            "grid_auto_rows": null,
            "grid_column": null,
            "grid_gap": null,
            "grid_row": null,
            "grid_template_areas": null,
            "grid_template_columns": null,
            "grid_template_rows": null,
            "height": null,
            "justify_content": null,
            "justify_items": null,
            "left": null,
            "margin": null,
            "max_height": null,
            "max_width": null,
            "min_height": null,
            "min_width": null,
            "object_fit": null,
            "object_position": null,
            "order": null,
            "overflow": null,
            "overflow_x": null,
            "overflow_y": null,
            "padding": null,
            "right": null,
            "top": null,
            "visibility": null,
            "width": null
          }
        },
        "738732c056414cf0bc4e8ee499cbda39": {
          "model_module": "@jupyter-widgets/controls",
          "model_name": "DescriptionStyleModel",
          "model_module_version": "1.5.0",
          "state": {
            "_model_module": "@jupyter-widgets/controls",
            "_model_module_version": "1.5.0",
            "_model_name": "DescriptionStyleModel",
            "_view_count": null,
            "_view_module": "@jupyter-widgets/base",
            "_view_module_version": "1.2.0",
            "_view_name": "StyleView",
            "description_width": ""
          }
        },
        "add3784c74ec427691fc7e0f1b9c473a": {
          "model_module": "@jupyter-widgets/base",
          "model_name": "LayoutModel",
          "model_module_version": "1.2.0",
          "state": {
            "_model_module": "@jupyter-widgets/base",
            "_model_module_version": "1.2.0",
            "_model_name": "LayoutModel",
            "_view_count": null,
            "_view_module": "@jupyter-widgets/base",
            "_view_module_version": "1.2.0",
            "_view_name": "LayoutView",
            "align_content": null,
            "align_items": null,
            "align_self": null,
            "border": null,
            "bottom": null,
            "display": null,
            "flex": null,
            "flex_flow": null,
            "grid_area": null,
            "grid_auto_columns": null,
            "grid_auto_flow": null,
            "grid_auto_rows": null,
            "grid_column": null,
            "grid_gap": null,
            "grid_row": null,
            "grid_template_areas": null,
            "grid_template_columns": null,
            "grid_template_rows": null,
            "height": null,
            "justify_content": null,
            "justify_items": null,
            "left": null,
            "margin": null,
            "max_height": null,
            "max_width": null,
            "min_height": null,
            "min_width": null,
            "object_fit": null,
            "object_position": null,
            "order": null,
            "overflow": null,
            "overflow_x": null,
            "overflow_y": null,
            "padding": null,
            "right": null,
            "top": null,
            "visibility": null,
            "width": null
          }
        },
        "04219ffaf8534317a19b6d79eb642175": {
          "model_module": "@jupyter-widgets/controls",
          "model_name": "ProgressStyleModel",
          "model_module_version": "1.5.0",
          "state": {
            "_model_module": "@jupyter-widgets/controls",
            "_model_module_version": "1.5.0",
            "_model_name": "ProgressStyleModel",
            "_view_count": null,
            "_view_module": "@jupyter-widgets/base",
            "_view_module_version": "1.2.0",
            "_view_name": "StyleView",
            "bar_color": null,
            "description_width": ""
          }
        },
        "81920249769d425bbbbed99764eafadb": {
          "model_module": "@jupyter-widgets/base",
          "model_name": "LayoutModel",
          "model_module_version": "1.2.0",
          "state": {
            "_model_module": "@jupyter-widgets/base",
            "_model_module_version": "1.2.0",
            "_model_name": "LayoutModel",
            "_view_count": null,
            "_view_module": "@jupyter-widgets/base",
            "_view_module_version": "1.2.0",
            "_view_name": "LayoutView",
            "align_content": null,
            "align_items": null,
            "align_self": null,
            "border": null,
            "bottom": null,
            "display": null,
            "flex": null,
            "flex_flow": null,
            "grid_area": null,
            "grid_auto_columns": null,
            "grid_auto_flow": null,
            "grid_auto_rows": null,
            "grid_column": null,
            "grid_gap": null,
            "grid_row": null,
            "grid_template_areas": null,
            "grid_template_columns": null,
            "grid_template_rows": null,
            "height": null,
            "justify_content": null,
            "justify_items": null,
            "left": null,
            "margin": null,
            "max_height": null,
            "max_width": null,
            "min_height": null,
            "min_width": null,
            "object_fit": null,
            "object_position": null,
            "order": null,
            "overflow": null,
            "overflow_x": null,
            "overflow_y": null,
            "padding": null,
            "right": null,
            "top": null,
            "visibility": null,
            "width": null
          }
        },
        "15894e678ed34defb8c81a74d0559d3b": {
          "model_module": "@jupyter-widgets/controls",
          "model_name": "DescriptionStyleModel",
          "model_module_version": "1.5.0",
          "state": {
            "_model_module": "@jupyter-widgets/controls",
            "_model_module_version": "1.5.0",
            "_model_name": "DescriptionStyleModel",
            "_view_count": null,
            "_view_module": "@jupyter-widgets/base",
            "_view_module_version": "1.2.0",
            "_view_name": "StyleView",
            "description_width": ""
          }
        }
      }
    }
  },
  "cells": [
    {
      "cell_type": "markdown",
      "metadata": {
        "id": "view-in-github",
        "colab_type": "text"
      },
      "source": [
        "<a href=\"https://colab.research.google.com/github/Pratibha65/NLPS/blob/main/NLPs.ipynb\" target=\"_parent\"><img src=\"https://colab.research.google.com/assets/colab-badge.svg\" alt=\"Open In Colab\"/></a>"
      ]
    },
    {
      "cell_type": "code",
      "execution_count": null,
      "metadata": {
        "colab": {
          "base_uri": "https://localhost:8080/"
        },
        "id": "VsW_MyW9RK-f",
        "outputId": "0df011d2-9eaf-484c-95fd-12bd5208afc7"
      },
      "outputs": [
        {
          "output_type": "stream",
          "name": "stderr",
          "text": [
            "[nltk_data] Downloading package vader_lexicon to /root/nltk_data...\n",
            "[nltk_data] Downloading package punkt to /root/nltk_data...\n",
            "[nltk_data]   Unzipping tokenizers/punkt.zip.\n"
          ]
        },
        {
          "output_type": "stream",
          "name": "stdout",
          "text": [
            "Collecting syllapy\n",
            "  Downloading syllapy-0.7.2-py3-none-any.whl.metadata (854 bytes)\n",
            "Downloading syllapy-0.7.2-py3-none-any.whl (24 kB)\n",
            "Installing collected packages: syllapy\n",
            "Successfully installed syllapy-0.7.2\n"
          ]
        }
      ],
      "source": [
        "import requests\n",
        "from bs4 import BeautifulSoup\n",
        "import os\n",
        "import pandas as pd\n",
        "import nltk\n",
        "nltk.download('vader_lexicon')\n",
        "nltk.download('punkt')\n",
        "\n",
        "!pip install syllapy\n",
        "import syllapy\n",
        "from nltk.tokenize import word_tokenize, sent_tokenize\n",
        "from tqdm.notebook import tqdm\n"
      ]
    },
    {
      "cell_type": "code",
      "source": [
        "data = pd.read_csv('/content/Input.xlsx - Sheet1.csv')"
      ],
      "metadata": {
        "id": "GDIt2dNKSJQk"
      },
      "execution_count": null,
      "outputs": []
    },
    {
      "cell_type": "code",
      "source": [
        "\n",
        "output_dir = 'extracted_articles'\n",
        "os.makedirs(output_dir, exist_ok=True)\n",
        "\n",
        "tags = ['h1', 'p', 'h3']\n",
        "\n",
        "def extract_text_from_soup(soup):\n",
        "    texts = []\n",
        "\n",
        "    def extract_text_from_element(element):\n",
        "        if element.name == 'ol' or element.name == 'ul':\n",
        "            # Handle <ol> and <ul> tags\n",
        "            for item in element.find_all('li', recursive=False):\n",
        "                li_text = extract_text_from_element(item)\n",
        "                if li_text:  # Check if li_text is not None or empty\n",
        "                    texts.append(li_text)\n",
        "                    # texts.append('\\n')  # Add a newline after each <li>\n",
        "        elif element.name == 'li':\n",
        "            # Handle <li> elements\n",
        "            li_text = []\n",
        "            # if element.find_previous_sibling():\n",
        "            #     li_text.append(element.find_previous_sibling().get_text(strip=True))  # Add text from <strong>\n",
        "            li_text.append(element.get_text(strip=True))\n",
        "            return \"\\n\".join(li_text)\n",
        "        # elif element.name in ['strong']:\n",
        "        #     # Handle <strong> and other tags that might need special handling\n",
        "        #     return element.get_text(strip=True)\n",
        "        elif element.name in tags:\n",
        "            text = element.get_text(strip=True)\n",
        "            if text:  # Check if text is not None or empty\n",
        "                texts.append(text)\n",
        "        # else:\n",
        "        #     text = element.get_text(strip=True)\n",
        "        #     if text:  # Check if text is not None or empty\n",
        "        #         texts.append(text)\n",
        "\n",
        "        #Recursively handle children of the current element\n",
        "        for child in element.find_all(recursive=False):\n",
        "            child_text = extract_text_from_element(child)\n",
        "            # if child_text:\n",
        "            #     texts.append(child_text)\n",
        "\n",
        "    extract_text_from_element(soup)\n",
        "    return \"\\n\\n\".join(texts)\n",
        "\n",
        "for index,row in data.iterrows():\n",
        "  url_id = row['URL_ID']\n",
        "  url = row['URL']\n",
        "  try:\n",
        "      response = requests.get(url)\n",
        "      response.raise_for_status()  # Ensure we notice bad responses\n",
        "      soup = BeautifulSoup(response.content, 'html.parser')\n",
        "      title = soup.find('title').text\n",
        "      soup = soup.find('div',class_='td-post-content tagdiv-type')\n",
        "      full_text = extract_text_from_soup(soup)\n",
        "\n",
        "      # Save the extracted text into a text file named with URL_ID\n",
        "      file_name = os.path.join(output_dir, f'{url_id}.txt')\n",
        "      with open(file_name, 'w', encoding='utf-8') as file:\n",
        "          file.write(full_text)\n",
        "      print(f\"Article {url_id} processed successfully.\")\n",
        "\n",
        "  except requests.exceptions.RequestException as e:\n",
        "      print(f\"Failed to fetch URL {url}: {e}\")\n",
        "  except Exception as e:\n",
        "      print(f\"An error occurred while processing URL {url}: {e}\")\n"
      ],
      "metadata": {
        "colab": {
          "base_uri": "https://localhost:8080/"
        },
        "id": "4B-v_I-BSPId",
        "outputId": "2d82abf7-6a20-4599-c874-38c90f604433"
      },
      "execution_count": null,
      "outputs": [
        {
          "output_type": "stream",
          "name": "stdout",
          "text": [
            "Article bctech2011 processed successfully.\n",
            "Article bctech2012 processed successfully.\n",
            "Article bctech2013 processed successfully.\n",
            "Article bctech2014 processed successfully.\n",
            "Article bctech2015 processed successfully.\n",
            "Article bctech2016 processed successfully.\n",
            "Article bctech2017 processed successfully.\n",
            "Article bctech2018 processed successfully.\n",
            "Article bctech2019 processed successfully.\n",
            "Article bctech2020 processed successfully.\n",
            "Article bctech2021 processed successfully.\n",
            "Article bctech2022 processed successfully.\n",
            "Article bctech2023 processed successfully.\n",
            "Article bctech2024 processed successfully.\n",
            "Article bctech2025 processed successfully.\n",
            "Article bctech2026 processed successfully.\n",
            "Article bctech2027 processed successfully.\n",
            "Article bctech2028 processed successfully.\n",
            "Article bctech2029 processed successfully.\n",
            "Article bctech2030 processed successfully.\n",
            "Article bctech2031 processed successfully.\n",
            "Article bctech2032 processed successfully.\n",
            "Article bctech2033 processed successfully.\n",
            "Article bctech2034 processed successfully.\n",
            "Article bctech2035 processed successfully.\n",
            "Article bctech2036 processed successfully.\n",
            "Article bctech2037 processed successfully.\n",
            "Article bctech2038 processed successfully.\n",
            "Article bctech2039 processed successfully.\n",
            "Article bctech2040 processed successfully.\n",
            "Article bctech2041 processed successfully.\n",
            "Article bctech2042 processed successfully.\n",
            "Article bctech2043 processed successfully.\n",
            "Article bctech2044 processed successfully.\n",
            "Article bctech2045 processed successfully.\n",
            "Article bctech2046 processed successfully.\n",
            "Article bctech2047 processed successfully.\n",
            "Article bctech2048 processed successfully.\n",
            "Article bctech2049 processed successfully.\n",
            "Article bctech2050 processed successfully.\n",
            "Article bctech2051 processed successfully.\n",
            "Article bctech2052 processed successfully.\n",
            "Article bctech2053 processed successfully.\n",
            "Article bctech2054 processed successfully.\n",
            "Article bctech2055 processed successfully.\n",
            "Article bctech2056 processed successfully.\n",
            "Article bctech2057 processed successfully.\n",
            "Article bctech2058 processed successfully.\n",
            "Article bctech2059 processed successfully.\n",
            "Article bctech2060 processed successfully.\n",
            "Article bctech2061 processed successfully.\n",
            "Article bctech2062 processed successfully.\n",
            "Article bctech2063 processed successfully.\n",
            "Article bctech2064 processed successfully.\n",
            "Article bctech2065 processed successfully.\n",
            "Article bctech2066 processed successfully.\n",
            "Article bctech2067 processed successfully.\n",
            "Article bctech2068 processed successfully.\n",
            "Article bctech2069 processed successfully.\n",
            "Article bctech2070 processed successfully.\n",
            "Article bctech2071 processed successfully.\n",
            "Article bctech2072 processed successfully.\n",
            "Article bctech2073 processed successfully.\n",
            "Article bctech2074 processed successfully.\n",
            "Article bctech2075 processed successfully.\n",
            "Article bctech2076 processed successfully.\n",
            "Article bctech2077 processed successfully.\n",
            "Article bctech2078 processed successfully.\n",
            "Article bctech2079 processed successfully.\n",
            "Article bctech2080 processed successfully.\n",
            "Article bctech2081 processed successfully.\n",
            "Article bctech2082 processed successfully.\n",
            "Article bctech2083 processed successfully.\n",
            "Article bctech2084 processed successfully.\n",
            "Article bctech2085 processed successfully.\n",
            "Article bctech2086 processed successfully.\n",
            "Article bctech2087 processed successfully.\n",
            "Article bctech2088 processed successfully.\n",
            "Article bctech2089 processed successfully.\n",
            "Article bctech2090 processed successfully.\n",
            "Article bctech2091 processed successfully.\n",
            "Article bctech2092 processed successfully.\n",
            "Article bctech2093 processed successfully.\n",
            "Article bctech2094 processed successfully.\n",
            "Article bctech2095 processed successfully.\n",
            "Article bctech2096 processed successfully.\n",
            "Article bctech2097 processed successfully.\n",
            "Article bctech2098 processed successfully.\n",
            "Article bctech2099 processed successfully.\n",
            "Article bctech2100 processed successfully.\n",
            "Article bctech2101 processed successfully.\n",
            "Article bctech2102 processed successfully.\n",
            "Article bctech2103 processed successfully.\n",
            "Article bctech2104 processed successfully.\n",
            "Article bctech2105 processed successfully.\n",
            "Article bctech2106 processed successfully.\n",
            "Article bctech2107 processed successfully.\n",
            "Article bctech2108 processed successfully.\n",
            "Article bctech2109 processed successfully.\n",
            "Article bctech2110 processed successfully.\n",
            "Article bctech2111 processed successfully.\n",
            "Article bctech2112 processed successfully.\n",
            "Article bctech2113 processed successfully.\n",
            "Article bctech2114 processed successfully.\n",
            "Article bctech2115 processed successfully.\n",
            "Article bctech2116 processed successfully.\n",
            "Article bctech2117 processed successfully.\n",
            "Article bctech2118 processed successfully.\n",
            "Article bctech2119 processed successfully.\n",
            "Article bctech2120 processed successfully.\n",
            "Article bctech2121 processed successfully.\n",
            "Article bctech2122 processed successfully.\n",
            "Article bctech2123 processed successfully.\n",
            "Article bctech2124 processed successfully.\n",
            "Article bctech2125 processed successfully.\n",
            "Article bctech2126 processed successfully.\n",
            "Article bctech2127 processed successfully.\n",
            "Article bctech2128 processed successfully.\n",
            "Article bctech2129 processed successfully.\n",
            "Article bctech2130 processed successfully.\n",
            "Article bctech2131 processed successfully.\n",
            "Article bctech2132 processed successfully.\n",
            "Article bctech2133 processed successfully.\n",
            "Article bctech2134 processed successfully.\n",
            "Article bctech2135 processed successfully.\n",
            "Article bctech2136 processed successfully.\n",
            "Article bctech2137 processed successfully.\n",
            "Article bctech2138 processed successfully.\n",
            "Article bctech2139 processed successfully.\n",
            "Article bctech2140 processed successfully.\n",
            "Article bctech2141 processed successfully.\n",
            "Article bctech2142 processed successfully.\n",
            "Article bctech2143 processed successfully.\n",
            "Article bctech2144 processed successfully.\n",
            "Article bctech2145 processed successfully.\n",
            "Article bctech2146 processed successfully.\n",
            "Article bctech2147 processed successfully.\n",
            "Article bctech2148 processed successfully.\n",
            "Article bctech2149 processed successfully.\n",
            "Article bctech2150 processed successfully.\n",
            "Article bctech2151 processed successfully.\n",
            "Article bctech2152 processed successfully.\n",
            "Article bctech2153 processed successfully.\n",
            "Article bctech2154 processed successfully.\n",
            "Article bctech2155 processed successfully.\n",
            "Article bctech2156 processed successfully.\n",
            "Article bctech2157 processed successfully.\n"
          ]
        }
      ]
    },
    {
      "cell_type": "code",
      "source": [
        "stop_words_folder = '/content/StopWords'\n",
        "master_dict_folder = '/content/MasterDictionary'"
      ],
      "metadata": {
        "id": "PTC-W7qESRPa"
      },
      "execution_count": null,
      "outputs": []
    },
    {
      "cell_type": "code",
      "source": [
        "stop_words = set()\n",
        "for file_name in os.listdir(stop_words_folder):\n",
        "    file_path = os.path.join(stop_words_folder, file_name)\n",
        "    with open(file_path, 'r', encoding='latin-1') as file:\n",
        "        words = file.read().split()\n",
        "        stop_words.update(words)"
      ],
      "metadata": {
        "id": "3VoJVksNSURO"
      },
      "execution_count": null,
      "outputs": []
    },
    {
      "cell_type": "code",
      "source": [
        "stop_words_list = list(stop_words) # Convert the set to a list\n",
        "stop_words_list.sort() # Sort the list\n",
        "stopword_path = 'stopwords_list.xlsx'\n",
        "stop_words_df = pd.DataFrame()\n",
        "stop_words_df['Stop words'] = stop_words_list\n",
        "stop_words_df.to_excel(stopword_path,index=False)\n",
        "\n",
        "stop_words = set(stop_words_list) # Convert the list back to a set, if needed"
      ],
      "metadata": {
        "id": "PsqslcumSWDA"
      },
      "execution_count": null,
      "outputs": []
    },
    {
      "cell_type": "code",
      "source": [
        "positive_words = set()\n",
        "negative_words = set()\n",
        "\n",
        "with open(os.path.join(master_dict_folder, 'positive-words.txt'), 'r', encoding='latin-1') as file:\n",
        "    for word in file.read().split():\n",
        "        if word not in stop_words:\n",
        "            positive_words.add(word)\n",
        "\n",
        "with open(os.path.join(master_dict_folder, 'negative-words.txt'), 'r', encoding='latin-1') as file:\n",
        "    for word in file.read().split():\n",
        "        if word not in stop_words:\n",
        "            negative_words.add(word)"
      ],
      "metadata": {
        "id": "ZOIirQA7SXuL"
      },
      "execution_count": null,
      "outputs": []
    },
    {
      "cell_type": "code",
      "source": [
        "def clean_text(text, stop_words):\n",
        "    words = nltk.word_tokenize(text)\n",
        "    cleaned_words = [word for word in words if word.lower() not in stop_words]\n",
        "    return cleaned_words"
      ],
      "metadata": {
        "id": "_trr98kwSaH7"
      },
      "execution_count": null,
      "outputs": []
    },
    {
      "cell_type": "code",
      "source": [
        "def calculate_sentiment_scores(tokens, positive_words, negative_words):\n",
        "    positive_score = sum(1 for word in tokens if word in positive_words)\n",
        "    negative_score = sum(1 for word in tokens if word in negative_words)\n",
        "    total_words = len(tokens)\n",
        "\n",
        "    polarity_score = (positive_score - negative_score) / ((positive_score + negative_score) + 0.000001)\n",
        "    subjectivity_score = (positive_score + negative_score) / (total_words + 0.000001)\n",
        "\n",
        "    return positive_score, negative_score, polarity_score, subjectivity_score"
      ],
      "metadata": {
        "id": "rNM2kbBxScvM"
      },
      "execution_count": null,
      "outputs": []
    },
    {
      "cell_type": "code",
      "source": [
        "def calculate_avg_sentence_length(text):\n",
        "    sentences = sent_tokenize(text)\n",
        "    total_sentences = len(sentences)\n",
        "    total_words = sum(len(word_tokenize(sentence)) for sentence in sentences)\n",
        "    avg_sentence_length = total_words / total_sentences if total_sentences > 0 else 0\n",
        "    return avg_sentence_length"
      ],
      "metadata": {
        "id": "8ugamjLaSerp"
      },
      "execution_count": null,
      "outputs": []
    },
    {
      "cell_type": "code",
      "source": [
        "def calculate_complex_word_percentage(tokens):\n",
        "    complex_words = [word for word in tokens if syllapy.count(word) >= 3]\n",
        "    total_words = len(tokens)\n",
        "    percentage_complex_words = (len(complex_words) / total_words) * 100 if total_words > 0 else 0\n",
        "    return percentage_complex_words"
      ],
      "metadata": {
        "id": "As-9vvpISgNa"
      },
      "execution_count": null,
      "outputs": []
    },
    {
      "cell_type": "code",
      "source": [
        "def calculate_avg_words_per_sentence(text):\n",
        "    sentences = sent_tokenize(text)\n",
        "    total_sentences = len(sentences)\n",
        "    total_words = sum(len(word_tokenize(sentence)) for sentence in sentences)\n",
        "    avg_words_per_sentence = total_words / total_sentences if total_sentences > 0 else 0\n",
        "    return avg_words_per_sentence"
      ],
      "metadata": {
        "id": "PkKjTHvqSh0Y"
      },
      "execution_count": null,
      "outputs": []
    },
    {
      "cell_type": "code",
      "source": [
        "def calculate_word_count(tokens):\n",
        "    return len(tokens)"
      ],
      "metadata": {
        "id": "hWk3nMiySjjT"
      },
      "execution_count": null,
      "outputs": []
    },
    {
      "cell_type": "code",
      "source": [
        "def count_syllables(word_list):\n",
        "    total_syllables = 0\n",
        "    for word in word_list:\n",
        "      word = word.lower()\n",
        "      vowels = \"aeiou\"\n",
        "      syllable_count = 0\n",
        "      prev_char_was_vowel = False\n",
        "\n",
        "      for index, char in enumerate(word):\n",
        "          if char in vowels:\n",
        "              if not prev_char_was_vowel:\n",
        "                  syllable_count += 1\n",
        "              prev_char_was_vowel = True\n",
        "          else:\n",
        "              prev_char_was_vowel = False\n",
        "\n",
        "      # Handle exceptions\n",
        "      if word.endswith(\"es\") and len(word) > 2 and not word.endswith(\"ses\"):\n",
        "          syllable_count -= 1\n",
        "      elif word.endswith(\"ed\") and len(word) > 2 and not word.endswith(\"ted\") and not word.endswith(\"ded\"):\n",
        "          syllable_count -= 1\n",
        "\n",
        "      if syllable_count == 0:\n",
        "          syllable_count = 1\n",
        "\n",
        "      total_syllables += syllable_count\n",
        "\n",
        "    return total_syllables"
      ],
      "metadata": {
        "id": "SXRI_Du3SkbB"
      },
      "execution_count": null,
      "outputs": []
    },
    {
      "cell_type": "code",
      "source": [
        "def calculate_complex_word_count(tokens):\n",
        "    complex_words = [word for word in tokens if syllapy.count(word) >= 3]\n",
        "    return len(complex_words)"
      ],
      "metadata": {
        "id": "4ASSixGiSmSb"
      },
      "execution_count": null,
      "outputs": []
    },
    {
      "cell_type": "code",
      "source": [
        "def calculate_personal_pronoun_count(tokens):\n",
        "    personal_pronouns = {'I','me','you','mine','he','she','it', 'we','they','them','him','her','his','hers','its','theirs','our','your', 'my', 'ours', 'us'}\n",
        "    return sum(1 for word in tokens if word.lower() in personal_pronouns)"
      ],
      "metadata": {
        "id": "Mx0aujgTSpDO"
      },
      "execution_count": null,
      "outputs": []
    },
    {
      "cell_type": "code",
      "source": [
        "def calculate_avg_word_length(tokens):\n",
        "    total_length = sum(len(word) for word in tokens)\n",
        "    total_words = len(tokens)\n",
        "    avg_word_length = total_length / total_words if total_words > 0 else 0\n",
        "    return avg_word_length"
      ],
      "metadata": {
        "id": "5-4X7g5ESrZ_"
      },
      "execution_count": null,
      "outputs": []
    },
    {
      "cell_type": "code",
      "source": [
        "positive_scores = []\n",
        "negative_scores = []\n",
        "polarity_scores = []\n",
        "subjectivity_scores = []\n",
        "avg_sentence_lengths = []\n",
        "complex_word_percentages = []\n",
        "avg_words_per_sentence_list = []\n",
        "fog_index = []\n",
        "word_counts = []\n",
        "syllables_per_word_list = []\n",
        "complex_word_counts = []\n",
        "personal_pronoun_counts = []\n",
        "avg_word_lengths = []\n",
        "\n",
        "for index, row in tqdm(data.iterrows(), total=data.shape[0]):\n",
        "    url_id = row['URL_ID']\n",
        "    file_path = os.path.join(output_dir, f'{url_id}.txt')\n",
        "\n",
        "    if os.path.exists(file_path):\n",
        "        # Read the text content of the file\n",
        "        with open(file_path, 'r', encoding='utf-8') as file:\n",
        "            text = file.read()\n",
        "\n",
        "        cleaned_tokens = clean_text(text, stop_words)\n",
        "        positive_score, negative_score, polarity_score, subjectivity_score = calculate_sentiment_scores(cleaned_tokens, positive_words, negative_words)\n",
        "        avg_sentence_length = calculate_avg_sentence_length(text)\n",
        "        complex_word_percentage = calculate_complex_word_percentage(cleaned_tokens)\n",
        "        avg_words_per_sentence = calculate_avg_words_per_sentence(text)\n",
        "        word_count = calculate_word_count(cleaned_tokens)\n",
        "        syllables_per_word = (count_syllables(cleaned_tokens)/word_count)\n",
        "        complex_word_count = calculate_complex_word_count(cleaned_tokens)\n",
        "        personal_pronoun_count = calculate_personal_pronoun_count(cleaned_tokens)\n",
        "        avg_word_length = calculate_avg_word_length(cleaned_tokens)\n",
        "\n",
        "        positive_scores.append(positive_score)\n",
        "        negative_scores.append(negative_score)\n",
        "        polarity_scores.append(polarity_score)\n",
        "        subjectivity_scores.append(subjectivity_score)\n",
        "        avg_sentence_lengths.append(avg_sentence_length)\n",
        "        complex_word_percentages.append(complex_word_percentage)\n",
        "        avg_words_per_sentence_list.append(avg_words_per_sentence)\n",
        "        fog_index.append(0.4*(avg_sentence_length+complex_word_percentage))\n",
        "        word_counts.append(word_count)\n",
        "        syllables_per_word_list.append(syllables_per_word)\n",
        "        complex_word_counts.append(complex_word_count)\n",
        "        personal_pronoun_counts.append(personal_pronoun_count)\n",
        "        avg_word_lengths.append(avg_word_length)\n",
        "    else:\n",
        "        positive_scores.append(None)\n",
        "        negative_scores.append(None)\n",
        "        polarity_scores.append(None)\n",
        "        subjectivity_scores.append(None)\n",
        "        avg_sentence_lengths.append(None)\n",
        "        complex_word_percentages.append(None)\n",
        "        avg_words_per_sentence_list.append(None)\n",
        "        fog_index.append(None)\n",
        "        word_counts.append(None)\n",
        "        syllables_per_word_list.append(None)\n",
        "        complex_word_counts.append(None)\n",
        "        personal_pronoun_counts.append(None)\n",
        "        avg_word_lengths.append(None)\n",
        "\n",
        "data['POSITIVE SCORE'] = positive_scores\n",
        "data['NEGATIVE SCORE'] = negative_scores\n",
        "data['POLARITY SCORE'] = polarity_scores\n",
        "data['SUBJECTIVITY SCORE'] = subjectivity_scores\n",
        "data['AVG SENTENCE LENGTH'] = avg_sentence_lengths\n",
        "data['PERCENTAGE OF COMPLEX WORDS'] = complex_word_percentages\n",
        "data['FOG INDEX'] = fog_index\n",
        "data['AVG NUMBER OF WORDS PER SENTENCE'] = avg_words_per_sentence_list\n",
        "data['COMPLEX WORD COUNT'] = complex_word_counts\n",
        "data['WORD COUNT'] = word_counts\n",
        "data['SYLLABLE PER WORD'] = syllables_per_word_list\n",
        "data['PERSONAL PRONOUNS'] = personal_pronoun_counts\n",
        "data['AVG WORD LENGTH'] = avg_word_lengths\n"
      ],
      "metadata": {
        "colab": {
          "base_uri": "https://localhost:8080/",
          "height": 49,
          "referenced_widgets": [
            "d7f3ac4efa9448d2849f8afe72cfee0e",
            "bbc76310ed6340e5bb7e21a55953c88c",
            "97a95ed0033d4bbc934dea62b2c167d1",
            "8e1463ff9a514500b6f021cf81f1e125",
            "f48bcb72803241d98762f657104f9cc1",
            "31a3f0c2e00849f09239889b35cf8bd3",
            "738732c056414cf0bc4e8ee499cbda39",
            "add3784c74ec427691fc7e0f1b9c473a",
            "04219ffaf8534317a19b6d79eb642175",
            "81920249769d425bbbbed99764eafadb",
            "15894e678ed34defb8c81a74d0559d3b"
          ]
        },
        "id": "DGQ1cgv8SsXA",
        "outputId": "ce5f42b4-06ba-48ef-b5d4-00f768ccbb86"
      },
      "execution_count": null,
      "outputs": [
        {
          "output_type": "display_data",
          "data": {
            "text/plain": [
              "  0%|          | 0/147 [00:00<?, ?it/s]"
            ],
            "application/vnd.jupyter.widget-view+json": {
              "version_major": 2,
              "version_minor": 0,
              "model_id": "d7f3ac4efa9448d2849f8afe72cfee0e"
            }
          },
          "metadata": {}
        }
      ]
    },
    {
      "cell_type": "code",
      "source": [
        "data['PERSONAL PRONOUNS'].value_counts()\n"
      ],
      "metadata": {
        "colab": {
          "base_uri": "https://localhost:8080/"
        },
        "id": "3H_dtkVRX3zP",
        "outputId": "2b0b584c-6cd5-4ad1-f15d-a4d6ed8068a2"
      },
      "execution_count": null,
      "outputs": [
        {
          "output_type": "execute_result",
          "data": {
            "text/plain": [
              "PERSONAL PRONOUNS\n",
              "0    147\n",
              "Name: count, dtype: int64"
            ]
          },
          "metadata": {},
          "execution_count": 20
        }
      ]
    },
    {
      "cell_type": "code",
      "source": [],
      "metadata": {
        "id": "JDewZCPP127-"
      },
      "execution_count": null,
      "outputs": []
    },
    {
      "cell_type": "code",
      "source": [
        "output_excel_path = 'updated_input_with_sentiments.xlsx'\n",
        "data.to_excel(output_excel_path, index=False)\n",
        "\n",
        "print(\"Sentiment scores have been added to the DataFrame and saved to the new Excel file.\")"
      ],
      "metadata": {
        "colab": {
          "base_uri": "https://localhost:8080/"
        },
        "id": "jtNey1vaSuJ2",
        "outputId": "0a6b29f8-cc14-4613-dacf-60b34579da3f"
      },
      "execution_count": null,
      "outputs": [
        {
          "output_type": "stream",
          "name": "stdout",
          "text": [
            "Sentiment scores have been added to the DataFrame and saved to the new Excel file.\n"
          ]
        }
      ]
    },
    {
      "cell_type": "code",
      "source": [
        "output_csv_path='output_csv_file.csv'\n",
        "\n",
        "data.to_csv(output_csv_path, index=False)"
      ],
      "metadata": {
        "id": "sIKM30X8XKAl"
      },
      "execution_count": null,
      "outputs": []
    },
    {
      "cell_type": "code",
      "source": [],
      "metadata": {
        "id": "BE3QFCNpt2g4"
      },
      "execution_count": null,
      "outputs": []
    }
  ]
}